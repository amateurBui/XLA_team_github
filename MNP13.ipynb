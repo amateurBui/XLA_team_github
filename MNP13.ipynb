{
 "cells": [
  {
   "cell_type": "code",
   "execution_count": 2,
   "metadata": {},
   "outputs": [],
   "source": [
    "import cv2\n",
    "import numpy as np\n",
    "from PIL import Image\n",
    "\n",
    "def segment_image(image_path, ref_region, threshold):\n",
    "    img = Image.open(image_path)\n",
    "    width, height = img.size\n",
    "    segmented_img = img.copy()\n",
    "    \n",
    "    x1, y1, x2, y2 = ref_region\n",
    "    R_sum, G_sum, B_sum, count = 0, 0, 0, 0\n",
    "    \n",
    "    # Tính giá trị màu trung bình trong vùng tham chiếu\n",
    "    for x in range(x1, x2 + 1):\n",
    "        for y in range(y1, y2 + 1):\n",
    "            R, G, B = img.getpixel((x, y))\n",
    "            R_sum += R\n",
    "            G_sum += G\n",
    "            B_sum += B\n",
    "            count += 1\n",
    "    \n",
    "    R_ref, G_ref, B_ref = R_sum // count, G_sum // count, B_sum // count\n",
    "    \n",
    "    # Áp dụng thuật toán segmentation\n",
    "    for x in range(width):\n",
    "        for y in range(height):\n",
    "            R, G, B = img.getpixel((x, y))\n",
    "            distance = ((R - R_ref) ** 2 + (G - G_ref) ** 2 + (B - B_ref) ** 2) ** 0.5\n",
    "            \n",
    "            if distance <= threshold:\n",
    "                segmented_img.putpixel((x, y), (255, 255, 255))  # Background\n",
    "            else:\n",
    "                segmented_img.putpixel((x, y), (R, G, B))  # Giữ nguyên màu sắc\n",
    "    \n",
    "    return cv2.cvtColor(np.array(segmented_img), cv2.COLOR_RGB2BGR)\n",
    "\n",
    "# Thiết lập vùng tham chiếu và ngưỡng\n",
    "ref_region = (80, 400, 150, 500)  # (x1, y1, x2, y2)\n",
    "threshold = 45\n",
    "\n",
    "# Xử lý ảnh\n",
    "filehinh = r\"D:\\Chuyen nganh\\Computer Vision\\XLA_team_github\\XLA_team_github\\lena_color.png\"\n",
    "segmented = segment_image(filehinh, ref_region, threshold)\n",
    "\n",
    "cv2.imshow(\"Segmented Image\", segmented)\n",
    "cv2.waitKey(0)\n",
    "cv2.destroyAllWindows()\n"
   ]
  }
 ],
 "metadata": {
  "kernelspec": {
   "display_name": "base",
   "language": "python",
   "name": "python3"
  },
  "language_info": {
   "codemirror_mode": {
    "name": "ipython",
    "version": 3
   },
   "file_extension": ".py",
   "mimetype": "text/x-python",
   "name": "python",
   "nbconvert_exporter": "python",
   "pygments_lexer": "ipython3",
   "version": "3.12.7"
  }
 },
 "nbformat": 4,
 "nbformat_minor": 2
}
